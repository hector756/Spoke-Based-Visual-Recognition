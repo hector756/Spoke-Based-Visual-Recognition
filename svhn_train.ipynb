{
  "nbformat": 4,
  "nbformat_minor": 0,
  "metadata": {
    "colab": {
      "provenance": [],
      "gpuType": "T4"
    },
    "kernelspec": {
      "name": "python3",
      "display_name": "Python 3"
    },
    "language_info": {
      "name": "python"
    },
    "accelerator": "GPU"
  },
  "cells": [
    {
      "cell_type": "code",
      "source": [
        "from google.colab import drive\n",
        "drive.mount('/content/drive')"
      ],
      "metadata": {
        "id": "6741551VtW1E",
        "outputId": "e9dd0fe1-3f10-4e97-97d6-415823cc34a0",
        "colab": {
          "base_uri": "https://localhost:8080/"
        }
      },
      "execution_count": null,
      "outputs": [
        {
          "output_type": "stream",
          "name": "stdout",
          "text": [
            "Drive already mounted at /content/drive; to attempt to forcibly remount, call drive.mount(\"/content/drive\", force_remount=True).\n"
          ]
        }
      ]
    },
    {
      "cell_type": "code",
      "source": [
        "#Importing required libraries and APIs\n",
        "import os\n",
        "import cv2\n",
        "import math\n",
        "import numpy as np\n",
        "import pandas as pd\n",
        "import matplotlib.pyplot as plt\n",
        "from tensorflow.keras.regularizers import l2,l1\n",
        "from tensorflow.keras.models import Sequential\n",
        "from sklearn.preprocessing import StandardScaler\n",
        "from sklearn.model_selection import train_test_split\n",
        "from tensorflow.keras.preprocessing.image import ImageDataGenerator, img_to_array\n",
        "from tensorflow.keras.layers import Dense, Dropout, Flatten, Conv1D, MaxPooling1D, Input"
      ],
      "metadata": {
        "id": "K30f4Fslt--F"
      },
      "execution_count": null,
      "outputs": []
    },
    {
      "cell_type": "code",
      "source": [
        "def process_csv(file_name):\n",
        "  #Pre-process each string array and convert in normal float based array\n",
        "  data_path = os.path.join('/content/drive/MyDrive', file_name)\n",
        "  my_data = pd.read_csv(data_path)\n",
        "  x = my_data.iloc[:,0]\n",
        "  x = x.tolist()\n",
        "  y = my_data.iloc[:,1]\n",
        "  y  = y.tolist()\n",
        "  for i in range(len(x)):\n",
        "      x[i] = x[i].replace(\"],\",\",\").replace(\" [\",\"\").replace(\" \",\"\").replace(\"[[\",\"\").replace(\"]]\",\"\").split(',')\n",
        "      x[i] = np.array([float(num) for num in x[i]])\n",
        "  ts_x = np.array(x)\n",
        "  ts_y = np.array(y)\n",
        "  return ts_x, ts_y\n",
        "\n",
        "def save_csv(dataset, labels, file_name):\n",
        "  #To save dataframe\n",
        "  df = pd.DataFrame({'Features': dataset, 'Label': labels})\n",
        "  file_path = os.path.join('/content/drive/MyDrive', file_name)\n",
        "  df.to_csv(file_path, index=False)"
      ],
      "metadata": {
        "id": "7HL0MXNht9lR"
      },
      "execution_count": null,
      "outputs": []
    },
    {
      "cell_type": "code",
      "execution_count": null,
      "metadata": {
        "id": "FgTE1kYRt8AL"
      },
      "outputs": [],
      "source": [
        "def append_correctly(x, y, arr, img, slope_more, side):\n",
        "  #Appends pixels correctly based on slope and handels out of bound error\n",
        "    if x==side: x=x-1\n",
        "    if y==side: y=y-1\n",
        "    if x<0: x=0\n",
        "    if y<0: y=0\n",
        "    if slope_more: arr.append(list(img[x,y])) #For angles in range 46-90 degree\n",
        "    else: arr.append(list(img[y,x])) #For angles in range 0-45 degree\n",
        "\n",
        "def get_pixels(img, radius, vis, side):\n",
        "  #Generates spokes at all required angles and appends in 1D array\n",
        "    xc, yc = radius, radius #Center coordinates\n",
        "    pixel_arr = []\n",
        "    ang = 0\n",
        "    spokes = 12\n",
        "    end = 180-180/spokes #Ending angle\n",
        "    jump = 180/spokes #Interval between 2 spokes\n",
        "    while ang<=end:\n",
        "        pixel_ang = get_pixels_at_angle(xc, yc, ang, radius, img, vis, side)\n",
        "        pixel_arr.append(pixel_ang)\n",
        "        ang+=jump\n",
        "    return pixel_arr\n",
        "\n",
        "def get_pixels_at_angle(xc, yc, ang, radius, img, vis, side):\n",
        "  #Implementation of Bressenham Line Algorithm for general sloped line\n",
        "    ang_rad = math.radians(ang)\n",
        "    xd, yd = (int)(math.cos(ang_rad)*radius), (int)(math.sin(ang_rad)*radius)\n",
        "    x1, y1 = xc-xd, yc+yd\n",
        "    x, y = x1, y1 #Starting coordinates\n",
        "    x2, y2 = xc+xd, yc-yd #End coordinates\n",
        "    dx, dy = abs(x2-x1), abs(y2-y1)\n",
        "    pixels = []\n",
        "    slope_more = False\n",
        "\n",
        "    if dx!=0:\n",
        "      #Calculate gradient for line\n",
        "        gradient = dy/float(dx)\n",
        "        if gradient>1:\n",
        "            dx, dy = dy, dx\n",
        "            x, y = y, x\n",
        "            x1, y1 = y1, x1\n",
        "            x2, y2 = y2, x2\n",
        "            slope_more = True\n",
        "    else:\n",
        "        #Handling 90 degree edge case (gradient is not defined)\n",
        "        for k in range(y2,y1):\n",
        "            vis[(x,k)]=True\n",
        "            pixels.append(list(img[k,x]))\n",
        "        return pixels\n",
        "\n",
        "    #Append starting pixel\n",
        "    if slope_more:\n",
        "        vis[(y,x)]=True\n",
        "        append_correctly(x, y, pixels, img, slope_more, side)\n",
        "    else:\n",
        "        vis[(x,y)]=True\n",
        "        append_correctly(x, y, pixels, img, slope_more, side)\n",
        "\n",
        "    #Iterate and sample pixel based on decision parameter 'd'\n",
        "    d=2*dy-dx\n",
        "    for k in range(0,dx-1):\n",
        "        if d>0:\n",
        "            y=y+1 if y<y2 else y-1\n",
        "            d=d+2*(dy-dx)\n",
        "        else:\n",
        "            d=d+2*dy\n",
        "        x=x+1 if x<x2 else x-1\n",
        "\n",
        "        #Append sampled pixels\n",
        "        if slope_more:\n",
        "            vis[(y,x)]=True\n",
        "            append_correctly(x, y, pixels, img, slope_more, side)\n",
        "        else:\n",
        "            vis[(x,y)]=True\n",
        "            append_correctly(x, y, pixels, img, slope_more, side)\n",
        "    return pixels"
      ]
    },
    {
      "cell_type": "code",
      "source": [
        "#Import data\n",
        "path = '/content/drive/MyDrive/svhn_data'\n",
        "xp = os.path.join(path,'data')\n",
        "yp = os.path.join(path,'label')"
      ],
      "metadata": {
        "id": "5QeAfl03uS71"
      },
      "execution_count": null,
      "outputs": []
    },
    {
      "cell_type": "code",
      "source": [
        "#Extract data from files\n",
        "arrx = []\n",
        "arry = []\n",
        "for f1,f2 in zip(os.listdir(xp),os.listdir(yp)):\n",
        "    p1x = os.path.join(xp,f1)\n",
        "    p1y = os.path.join(yp,f2)\n",
        "    arrx.append(p1x)\n",
        "    arry.append(p1y)\n",
        "y_test = np.load(arry[0])\n",
        "y_train = np.load(arry[1])\n",
        "x_test = np.load(arrx[0]).astype(np.float32)\n",
        "x_train = np.load(arrx[1]).astype(np.float32)"
      ],
      "metadata": {
        "id": "to2DlfSctq9M"
      },
      "execution_count": null,
      "outputs": []
    },
    {
      "cell_type": "code",
      "source": [
        "#Makeing sure to shape data perfectly\n",
        "y_tr = np.empty(y_train.shape[0],dtype=int)\n",
        "y_ts = np.empty(y_test.shape[0],dtype=int)\n",
        "for i in range(y_train.shape[0]):\n",
        "    y_tr[i] = y_train[i][0].astype(int)\n",
        "for i in range(y_test.shape[0]):\n",
        "    y_ts[i] = y_test[i][0].astype(int)"
      ],
      "metadata": {
        "id": "mqsjU-uGt1WM"
      },
      "execution_count": null,
      "outputs": []
    },
    {
      "cell_type": "code",
      "source": [
        "#Makeing sure to shape data perfectly\n",
        "x_tr = np.transpose(x_train, (3, 0, 1, 2))\n",
        "x_ts = np.transpose(x_test, (3, 0, 1, 2))"
      ],
      "metadata": {
        "id": "21hmdznkuu7k"
      },
      "execution_count": null,
      "outputs": []
    },
    {
      "cell_type": "code",
      "source": [
        "plt.imshow(x_ts[0])"
      ],
      "metadata": {
        "colab": {
          "base_uri": "https://localhost:8080/",
          "height": 447
        },
        "id": "JRKif7GsJe9i",
        "outputId": "71e2d12c-4f79-4fae-ba05-0e023a5dcbe4"
      },
      "execution_count": null,
      "outputs": [
        {
          "output_type": "execute_result",
          "data": {
            "text/plain": [
              "<matplotlib.image.AxesImage at 0x7fde895a4130>"
            ]
          },
          "metadata": {},
          "execution_count": 8
        },
        {
          "output_type": "display_data",
          "data": {
            "text/plain": [
              "<Figure size 640x480 with 1 Axes>"
            ],
            "image/png": "[encoded data removed]"
          },
          "metadata": {}
        }
      ]
    },
    {
      "cell_type": "code",
      "source": [
        "#This cell augments an image and then converts it to 1D array\n",
        "\n",
        "datagen = ImageDataGenerator(\n",
        "        height_shift_range=0.10,\n",
        "        rotation_range=15.0,\n",
        "        shear_range=0.2,\n",
        "        zoom_range=0.2,\n",
        "        fill_mode='nearest')\n",
        "\n",
        "def get_aug1d(x,y):\n",
        "  dataset = []\n",
        "  labels = []\n",
        "  for (image,yi) in zip(x,y):\n",
        "    aug_arr = []\n",
        "    img2 = image\n",
        "    pix = img_to_array(img2)\n",
        "    pix = pix.reshape((1,) + pix.shape)\n",
        "    extra = 1\n",
        "    start = 1\n",
        "    for batch in datagen.flow(pix, batch_size=1):\n",
        "        aug_arr.append(batch[0])\n",
        "        start += 1\n",
        "        if start>extra:\n",
        "            break\n",
        "\n",
        "    for aug_img in aug_arr:\n",
        "        sd = aug_img.shape[0]\n",
        "        rad = sd//2\n",
        "        vis2 = {}\n",
        "        pixe = get_pixels(aug_img,rad,vis2,sd)\n",
        "        tem = []\n",
        "        for i in range(0,len(pixe)):\n",
        "            if i%2==0:\n",
        "                for j in range(0,len(pixe[i])):\n",
        "                    tem.append(pixe[i][j])\n",
        "            else:\n",
        "                for j in range(len(pixe[i])-1,-1,-1):\n",
        "                    tem.append(pixe[i][j])\n",
        "        dataset.append(tem)\n",
        "        labels.append(yi)\n",
        "  return dataset,labels"
      ],
      "metadata": {
        "id": "kzZcKPfDYXNZ"
      },
      "execution_count": null,
      "outputs": []
    },
    {
      "cell_type": "code",
      "source": [
        "#This cell converts image into 1D array\n",
        "def get_1d(x,y):\n",
        "  dataset = []\n",
        "  labels = []\n",
        "  for (image,yi) in zip(x,y):\n",
        "    side = image.shape[0]\n",
        "    radius = side//2 #Circular region radius\n",
        "    vis = {} #Used to generate binary mask for image\n",
        "    pixel_array = get_pixels(image, radius, vis, side)\n",
        "    temp = []\n",
        "\n",
        "    for i in range(0,len(pixel_array)):\n",
        "      #Append array in final dataset in alternate reverse form\n",
        "      #This preserves spatial relationships as it maintains data continuity\n",
        "        if i%2==0:\n",
        "            for j in range(0,len(pixel_array[i])):\n",
        "                temp.append(pixel_array[i][j])\n",
        "        else:\n",
        "            for j in range(len(pixel_array[i])-1,-1,-1):\n",
        "                temp.append(pixel_array[i][j])\n",
        "    dataset.append(temp)\n",
        "    labels.append(yi)\n",
        "  return dataset,labels"
      ],
      "metadata": {
        "id": "2DbJRM7EvAZY"
      },
      "execution_count": null,
      "outputs": []
    },
    {
      "cell_type": "code",
      "source": [
        "#Convert images to 1D array (noormal and augmented ones)\n",
        "trainx_normal, trainy_normal = get_1d(x_tr,y_tr)\n",
        "trainx_aug, trainy_aug = get_aug1d(x_tr,y_tr)\n",
        "testx_normal, testy_normal = get_1d(x_ts,y_ts)"
      ],
      "metadata": {
        "id": "CiMa9MZZagta"
      },
      "execution_count": null,
      "outputs": []
    },
    {
      "cell_type": "code",
      "source": [
        "#Save datasets\n",
        "#Note: The dataset (pixel array) saved in csv file is kind of a string\n",
        "save_csv(trainx_normal, trainy_normal, 'svhn_train.csv')\n",
        "save_csv(testx_normal, testy_normal, 'svhn_test.csv')\n",
        "save_csv(trainx_aug, trainy_aug, 'svhn_aug.csv')"
      ],
      "metadata": {
        "id": "6UGmumpxajs6"
      },
      "execution_count": null,
      "outputs": []
    },
    {
      "cell_type": "code",
      "source": [
        "#Concatenate augmented and normal datasets into training data\n",
        "p1 = '/content/drive/MyDrive/svhn_aug.csv'\n",
        "p2 = '/content/drive/MyDrive/svhn_train.csv'\n",
        "d1 = pd.read_csv(p1)\n",
        "d2 = pd.read_csv(p2)\n",
        "x_train_merged = pd.concat([d1, d2])\n",
        "len(x_train_merged)"
      ],
      "metadata": {
        "colab": {
          "base_uri": "https://localhost:8080/"
        },
        "id": "aO7xS3HEZtjc",
        "outputId": "922498a1-e502-4814-faa3-36817c92f505"
      },
      "execution_count": null,
      "outputs": [
        {
          "output_type": "execute_result",
          "data": {
            "text/plain": [
              "146514"
            ]
          },
          "metadata": {},
          "execution_count": 4
        }
      ]
    },
    {
      "cell_type": "code",
      "source": [
        "file_name = 'svhn_merged.csv'\n",
        "file_path = os.path.join('/content/drive/MyDrive', file_name)\n",
        "x_train_merged.to_csv(file_path, index=False)"
      ],
      "metadata": {
        "id": "JfdTviFoaNtm"
      },
      "execution_count": null,
      "outputs": []
    },
    {
      "cell_type": "code",
      "source": [
        "x_final_train, y_train_final = process_csv('svhn_merged.csv') #Final training data\n",
        "x_final_test, y_test_final = process_csv('svhn_test.csv') #Final testing data"
      ],
      "metadata": {
        "id": "vjiGu0EXvHOG"
      },
      "execution_count": null,
      "outputs": []
    },
    {
      "cell_type": "code",
      "source": [
        "#One-hot encoding (Pre-process y(s) for softmax layer to predict probability for classification)\n",
        "num = 10\n",
        "y_final_train = []\n",
        "for i in range(len(y_train_final)):\n",
        "    lst = np.zeros(num).astype(int)\n",
        "    lst[y_train_final[i]] = 1\n",
        "    y_final_train.append(lst)\n",
        "y_final_test = []\n",
        "for i in range(len(y_test_final)):\n",
        "    lst = np.zeros(num).astype(int)\n",
        "    lst[y_test_final[i]] = 1\n",
        "    y_final_test.append(lst)\n",
        "y_final_train = np.array(y_final_train)\n",
        "y_final_test = np.array(y_final_test)"
      ],
      "metadata": {
        "id": "gNDIKThnwODn"
      },
      "execution_count": null,
      "outputs": []
    },
    {
      "cell_type": "code",
      "source": [
        "print(x_final_train.shape)\n",
        "print(y_final_train.shape)\n",
        "print(x_final_test.shape)\n",
        "print(y_final_test.shape)"
      ],
      "metadata": {
        "id": "wZc910H3wB41",
        "colab": {
          "base_uri": "https://localhost:8080/"
        },
        "outputId": "516fb607-0320-48a4-f858-088f17738e5f"
      },
      "execution_count": null,
      "outputs": [
        {
          "output_type": "stream",
          "name": "stdout",
          "text": [
            "(146514, 996)\n",
            "(146514, 10)\n",
            "(26032, 996)\n",
            "(26032, 10)\n"
          ]
        }
      ]
    },
    {
      "cell_type": "code",
      "source": [
        "#Define model\n",
        "model = Sequential([\n",
        "    Input(shape=(x_final_train.shape[1],1)),\n",
        "\n",
        "# 1st Convolutional block\n",
        "    Conv1D(filters=16,kernel_size=3,activation='relu'),\n",
        "    Conv1D(filters=16,kernel_size=3,activation='relu'),\n",
        "    Dropout(0.1),\n",
        "    MaxPooling1D(pool_size=2),\n",
        "\n",
        "# 2nd Convolutional block\n",
        "    Conv1D(filters=32,kernel_size=3,activation='relu'),\n",
        "    Conv1D(filters=32,kernel_size=3,activation='relu'),\n",
        "    Dropout(0.1),\n",
        "    MaxPooling1D(pool_size=2),\n",
        "\n",
        "# 3rd Convolutional block\n",
        "    Conv1D(filters=64,kernel_size=3,activation='relu'),\n",
        "    Conv1D(filters=64,kernel_size=3,activation='relu'),\n",
        "    Dropout(0.1),\n",
        "    MaxPooling1D(pool_size=2),\n",
        "\n",
        "    Flatten(),\n",
        "\n",
        "    Dense(1024,activation='relu'),\n",
        "    Dropout(0.3),\n",
        "    Dense(512,activation='relu'),\n",
        "    Dropout(0.3),\n",
        "    Dense(10,activation='softmax')\n",
        "  ])\n",
        "model.compile(loss = 'categorical_crossentropy', optimizer = 'adam', metrics = ['accuracy'])"
      ],
      "metadata": {
        "id": "Nmc4xbWAwRyA"
      },
      "execution_count": null,
      "outputs": []
    },
    {
      "cell_type": "code",
      "source": [
        "model.summary()"
      ],
      "metadata": {
        "id": "4CVGZKPpwgtk",
        "colab": {
          "base_uri": "https://localhost:8080/"
        },
        "outputId": "c1749e0c-d9b1-4978-e95c-c8183e066977"
      },
      "execution_count": null,
      "outputs": [
        {
          "output_type": "stream",
          "name": "stdout",
          "text": [
            "Model: \"sequential_3\"\n",
            "_________________________________________________________________\n",
            " Layer (type)                Output Shape              Param #   \n",
            "=================================================================\n",
            " conv1d_18 (Conv1D)          (None, 994, 16)           64        \n",
            "                                                                 \n",
            " conv1d_19 (Conv1D)          (None, 992, 16)           784       \n",
            "                                                                 \n",
            " dropout_8 (Dropout)         (None, 992, 16)           0         \n",
            "                                                                 \n",
            " max_pooling1d_9 (MaxPoolin  (None, 496, 16)           0         \n",
            " g1D)                                                            \n",
            "                                                                 \n",
            " conv1d_20 (Conv1D)          (None, 494, 32)           1568      \n",
            "                                                                 \n",
            " conv1d_21 (Conv1D)          (None, 492, 32)           3104      \n",
            "                                                                 \n",
            " dropout_9 (Dropout)         (None, 492, 32)           0         \n",
            "                                                                 \n",
            " max_pooling1d_10 (MaxPooli  (None, 246, 32)           0         \n",
            " ng1D)                                                           \n",
            "                                                                 \n",
            " conv1d_22 (Conv1D)          (None, 244, 64)           6208      \n",
            "                                                                 \n",
            " conv1d_23 (Conv1D)          (None, 242, 64)           12352     \n",
            "                                                                 \n",
            " dropout_10 (Dropout)        (None, 242, 64)           0         \n",
            "                                                                 \n",
            " max_pooling1d_11 (MaxPooli  (None, 121, 64)           0         \n",
            " ng1D)                                                           \n",
            "                                                                 \n",
            " flatten_3 (Flatten)         (None, 7744)              0         \n",
            "                                                                 \n",
            " dense_9 (Dense)             (None, 1024)              7930880   \n",
            "                                                                 \n",
            " dropout_11 (Dropout)        (None, 1024)              0         \n",
            "                                                                 \n",
            " dense_10 (Dense)            (None, 512)               524800    \n",
            "                                                                 \n",
            " dropout_12 (Dropout)        (None, 512)               0         \n",
            "                                                                 \n",
            " dense_11 (Dense)            (None, 10)                5130      \n",
            "                                                                 \n",
            "=================================================================\n",
            "Total params: 8484890 (32.37 MB)\n",
            "Trainable params: 8484890 (32.37 MB)\n",
            "Non-trainable params: 0 (0.00 Byte)\n",
            "_________________________________________________________________\n"
          ]
        }
      ]
    },
    {
      "cell_type": "code",
      "source": [
        "history = model.fit(x_final_train, y_final_train, validation_data = (x_final_test,y_final_test), epochs = 30, batch_size = 3000)"
      ],
      "metadata": {
        "id": "frhzO_r2wkE5",
        "colab": {
          "base_uri": "https://localhost:8080/"
        },
        "outputId": "1cf4daee-ec8a-4c4a-d2a2-bfe5b87a94bb"
      },
      "execution_count": null,
      "outputs": [
        {
          "output_type": "stream",
          "name": "stdout",
          "text": [
            "Epoch 1/30\n",
            "49/49 [==============================] - 20s 352ms/step - loss: 2.2402 - accuracy: 0.1855 - val_loss: 2.1740 - val_accuracy: 0.1965\n",
            "Epoch 2/30\n",
            "49/49 [==============================] - 13s 274ms/step - loss: 1.6436 - accuracy: 0.4404 - val_loss: 0.9986 - val_accuracy: 0.6921\n",
            "Epoch 3/30\n",
            "49/49 [==============================] - 13s 272ms/step - loss: 0.9747 - accuracy: 0.6875 - val_loss: 0.6678 - val_accuracy: 0.7974\n",
            "Epoch 4/30\n",
            "49/49 [==============================] - 13s 273ms/step - loss: 0.7700 - accuracy: 0.7553 - val_loss: 0.5733 - val_accuracy: 0.8313\n",
            "Epoch 5/30\n",
            "49/49 [==============================] - 14s 281ms/step - loss: 0.6696 - accuracy: 0.7880 - val_loss: 0.5124 - val_accuracy: 0.8479\n",
            "Epoch 6/30\n",
            "49/49 [==============================] - 13s 270ms/step - loss: 0.6028 - accuracy: 0.8085 - val_loss: 0.4836 - val_accuracy: 0.8576\n",
            "Epoch 7/30\n",
            "49/49 [==============================] - 14s 283ms/step - loss: 0.5545 - accuracy: 0.8240 - val_loss: 0.4559 - val_accuracy: 0.8631\n",
            "Epoch 8/30\n",
            "49/49 [==============================] - 14s 283ms/step - loss: 0.5126 - accuracy: 0.8385 - val_loss: 0.4363 - val_accuracy: 0.8694\n",
            "Epoch 9/30\n",
            "49/49 [==============================] - 13s 272ms/step - loss: 0.4784 - accuracy: 0.8478 - val_loss: 0.4280 - val_accuracy: 0.8738\n",
            "Epoch 10/30\n",
            "49/49 [==============================] - 13s 271ms/step - loss: 0.4459 - accuracy: 0.8581 - val_loss: 0.4150 - val_accuracy: 0.8774\n",
            "Epoch 11/30\n",
            "49/49 [==============================] - 13s 270ms/step - loss: 0.4134 - accuracy: 0.8690 - val_loss: 0.4141 - val_accuracy: 0.8768\n",
            "Epoch 12/30\n",
            "49/49 [==============================] - 13s 269ms/step - loss: 0.3903 - accuracy: 0.8747 - val_loss: 0.4065 - val_accuracy: 0.8806\n",
            "Epoch 13/30\n",
            "49/49 [==============================] - 13s 269ms/step - loss: 0.3655 - accuracy: 0.8821 - val_loss: 0.4039 - val_accuracy: 0.8826\n",
            "Epoch 14/30\n",
            "49/49 [==============================] - 13s 269ms/step - loss: 0.3409 - accuracy: 0.8907 - val_loss: 0.4060 - val_accuracy: 0.8811\n",
            "Epoch 15/30\n",
            "49/49 [==============================] - 14s 281ms/step - loss: 0.3173 - accuracy: 0.8977 - val_loss: 0.4097 - val_accuracy: 0.8798\n",
            "Epoch 16/30\n",
            "49/49 [==============================] - 14s 282ms/step - loss: 0.2945 - accuracy: 0.9055 - val_loss: 0.4088 - val_accuracy: 0.8815\n",
            "Epoch 17/30\n",
            "49/49 [==============================] - 13s 270ms/step - loss: 0.2772 - accuracy: 0.9101 - val_loss: 0.4139 - val_accuracy: 0.8837\n",
            "Epoch 18/30\n",
            "49/49 [==============================] - 14s 281ms/step - loss: 0.2608 - accuracy: 0.9146 - val_loss: 0.4221 - val_accuracy: 0.8810\n",
            "Epoch 19/30\n",
            "49/49 [==============================] - 14s 280ms/step - loss: 0.2445 - accuracy: 0.9199 - val_loss: 0.4104 - val_accuracy: 0.8839\n",
            "Epoch 20/30\n",
            "49/49 [==============================] - 14s 280ms/step - loss: 0.2267 - accuracy: 0.9246 - val_loss: 0.4319 - val_accuracy: 0.8826\n",
            "Epoch 21/30\n",
            "49/49 [==============================] - 14s 281ms/step - loss: 0.2172 - accuracy: 0.9277 - val_loss: 0.4320 - val_accuracy: 0.8816\n",
            "Epoch 22/30\n",
            "49/49 [==============================] - 14s 280ms/step - loss: 0.1990 - accuracy: 0.9344 - val_loss: 0.4379 - val_accuracy: 0.8822\n",
            "Epoch 23/30\n",
            "49/49 [==============================] - 14s 280ms/step - loss: 0.1854 - accuracy: 0.9381 - val_loss: 0.4399 - val_accuracy: 0.8834\n",
            "Epoch 24/30\n",
            "49/49 [==============================] - 13s 268ms/step - loss: 0.1757 - accuracy: 0.9409 - val_loss: 0.4527 - val_accuracy: 0.8818\n",
            "Epoch 25/30\n",
            "49/49 [==============================] - 14s 279ms/step - loss: 0.1680 - accuracy: 0.9432 - val_loss: 0.4679 - val_accuracy: 0.8817\n",
            "Epoch 26/30\n",
            "49/49 [==============================] - 13s 268ms/step - loss: 0.1589 - accuracy: 0.9465 - val_loss: 0.4822 - val_accuracy: 0.8816\n",
            "Epoch 27/30\n",
            "49/49 [==============================] - 14s 279ms/step - loss: 0.1485 - accuracy: 0.9490 - val_loss: 0.4749 - val_accuracy: 0.8840\n",
            "Epoch 28/30\n",
            "49/49 [==============================] - 13s 267ms/step - loss: 0.1411 - accuracy: 0.9521 - val_loss: 0.4875 - val_accuracy: 0.8832\n",
            "Epoch 29/30\n",
            "49/49 [==============================] - 13s 267ms/step - loss: 0.1327 - accuracy: 0.9544 - val_loss: 0.4917 - val_accuracy: 0.8836\n",
            "Epoch 30/30\n",
            "49/49 [==============================] - 13s 267ms/step - loss: 0.1280 - accuracy: 0.9567 - val_loss: 0.5006 - val_accuracy: 0.8831\n"
          ]
        }
      ]
    },
    {
      "cell_type": "code",
      "source": [
        "#Plot training and validation loss curve\n",
        "plt.figure()\n",
        "plt.plot(history.history['loss'], label='Training Loss')\n",
        "plt.plot(history.history['val_loss'], label='Validation Loss')\n",
        "plt.xlabel('Epoch')\n",
        "plt.ylabel('Loss')\n",
        "plt.title('Training and Validation Loss Curves')\n",
        "plt.legend()\n",
        "\n",
        "# Plot training and validation accuracy\n",
        "plt.figure()\n",
        "plt.plot(history.history['accuracy'], label='Training Accuracy')\n",
        "plt.plot(history.history['val_accuracy'], label='Validation Accuracy')\n",
        "plt.xlabel('Epoch')\n",
        "plt.ylabel('Accuracy')\n",
        "plt.title('Training and Validation Accuracy Curves')\n",
        "plt.legend()\n",
        "\n",
        "plt.show()"
      ],
      "metadata": {
        "id": "AYTitxyrwqar",
        "colab": {
          "base_uri": "https://localhost:8080/",
          "height": 927
        },
        "outputId": "6f2a77c0-8615-40b7-f10d-5cc919cf38e0"
      },
      "execution_count": null,
      "outputs": [
        {
          "output_type": "display_data",
          "data": {
            "text/plain": [
              "<Figure size 640x480 with 1 Axes>"
            ],
            "image/png": "[encoded data removed]"
          },
          "metadata": {}
        },
        {
          "output_type": "display_data",
          "data": {
            "text/plain": [
              "<Figure size 640x480 with 1 Axes>"
            ],
            "image/png": "[encoded data removed]"
          },
          "metadata": {}
        }
      ]
    },
    {
      "cell_type": "code",
      "source": [],
      "metadata": {
        "id": "iTMQZSrVp6tL"
      },
      "execution_count": null,
      "outputs": []
    }
  ]
}