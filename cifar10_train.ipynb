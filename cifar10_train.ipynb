{
  "cells": [
    {
      "cell_type": "code",
      "execution_count": null,
      "metadata": {
        "colab": {
          "base_uri": "https://localhost:8080/"
        },
        "id": "BfX63ykh5j8Q",
        "outputId": "3ff4647f-4871-425d-cc96-ff079e93c9eb"
      },
      "outputs": [
        {
          "output_type": "stream",
          "name": "stdout",
          "text": [
            "Drive already mounted at /content/drive; to attempt to forcibly remount, call drive.mount(\"/content/drive\", force_remount=True).\n"
          ]
        }
      ],
      "source": [
        "from google.colab import drive\n",
        "drive.mount('/content/drive')"
      ]
    },
    {
      "cell_type": "code",
      "execution_count": null,
      "metadata": {
        "id": "qH2cBx2z5lQG"
      },
      "outputs": [],
      "source": [
        "import os\n",
        "import cv2\n",
        "import math\n",
        "import numpy as np\n",
        "import pandas as pd\n",
        "import tensorflow as tf\n",
        "import matplotlib.pyplot as plt\n",
        "from tensorflow.keras.models import Sequential\n",
        "from sklearn.preprocessing import StandardScaler\n",
        "from sklearn.model_selection import train_test_split\n",
        "from tensorflow.keras.layers import Dense, Dropout, Flatten, Conv1D, MaxPooling1D, Input\n",
        "from tensorflow.keras.preprocessing.image import ImageDataGenerator, img_to_array"
      ]
    },
    {
      "cell_type": "code",
      "source": [
        "def process_csv(file_name):\n",
        "  data_path = os.path.join('/content/drive/MyDrive', file_name)\n",
        "  my_data = pd.read_csv(data_path)\n",
        "  x = my_data.iloc[:,0]\n",
        "  x = x.tolist()\n",
        "  y = my_data.iloc[:,1]\n",
        "  y  = y.tolist()\n",
        "  for i in range(len(x)):\n",
        "      x[i] = x[i].replace(\"],\",\",\").replace(\" [\",\"\").replace(\" \",\"\").replace(\"[[\",\"\").replace(\"]]\",\"\").split(',')\n",
        "      x[i] = np.array([float(num) for num in x[i]])\n",
        "  ts_x = np.array(x)\n",
        "  ts_y = np.array(y)\n",
        "  return ts_x, ts_y\n",
        "\n",
        "def save_csv(dataset, labels, file_name):\n",
        "  #Saves dataframe\n",
        "  df = pd.DataFrame({'Features': dataset, 'Label': labels})\n",
        "  file_path = os.path.join('/content/drive/MyDrive', file_name)\n",
        "  df.to_csv(file_path, index=False)"
      ],
      "metadata": {
        "id": "6vRZeaONvSAS"
      },
      "execution_count": null,
      "outputs": []
    },
    {
      "cell_type": "code",
      "source": [
        "def append_correctly(x, y, arr, img, slope_more, side):\n",
        "    if x==side: x=x-1\n",
        "    if y==side: y=y-1\n",
        "    if x<0: x=0\n",
        "    if y<0: y=0\n",
        "    if slope_more: arr.append(list(img[x,y]))\n",
        "    else: arr.append(list(img[y,x]))\n",
        "\n",
        "def get_pixels(img, radius, vis, side):\n",
        "    xc, yc = radius, radius #Center coordinates\n",
        "    pixel_arr = []\n",
        "    ang = 0\n",
        "    spokes = 12\n",
        "    end = 180-180/spokes\n",
        "    jump = 180/spokes\n",
        "    while ang<=end:\n",
        "        pixel_ang = get_pixels_at_angle(xc, yc, ang, radius, img, vis, side)\n",
        "        pixel_arr.append(pixel_ang)\n",
        "        ang+=jump\n",
        "    return pixel_arr"
      ],
      "metadata": {
        "id": "06Sbkv_zvR8A"
      },
      "execution_count": null,
      "outputs": []
    },
    {
      "cell_type": "code",
      "execution_count": null,
      "metadata": {
        "id": "JDWbMvhw5oYu"
      },
      "outputs": [],
      "source": [
        "def get_pixels_at_angle(xc, yc, ang, radius, img, vis, side):\n",
        "    ang_rad = math.radians(ang)\n",
        "    xd, yd = (int)(math.cos(ang_rad)*radius), (int)(math.sin(ang_rad)*radius)\n",
        "    x1, y1 = xc-xd, yc+yd\n",
        "    x, y = x1, y1 #Starting coordinates\n",
        "    x2, y2 = xc+xd, yc-yd #End coordinates\n",
        "    dx, dy = abs(x2-x1), abs(y2-y1)\n",
        "    pixels = []\n",
        "    slope_more = False\n",
        "\n",
        "    if dx!=0:\n",
        "        gradient = dy/float(dx)\n",
        "        if gradient>1:\n",
        "            dx, dy = dy, dx\n",
        "            x, y = y, x\n",
        "            x1, y1 = y1, x1\n",
        "            x2, y2 = y2, x2\n",
        "            slope_more = True\n",
        "    else:\n",
        "        #Handling 90 degree case\n",
        "        for k in range(y2,y1):\n",
        "            vis[(x,k)]=True\n",
        "            pixels.append(list(img[k,x]))\n",
        "        return pixels\n",
        "\n",
        "    if slope_more:\n",
        "        vis[(y,x)]=True\n",
        "        append_correctly(x, y, pixels, img, slope_more, side)\n",
        "    else:\n",
        "        vis[(x,y)]=True\n",
        "        append_correctly(x, y, pixels, img, slope_more, side)\n",
        "\n",
        "    d=2*dy-dx\n",
        "    for k in range(0,dx-1):\n",
        "        if d>0:\n",
        "            y=y+1 if y<y2 else y-1\n",
        "            d=d+2*(dy-dx)\n",
        "        else:\n",
        "            d=d+2*dy\n",
        "        x=x+1 if x<x2 else x-1\n",
        "\n",
        "        if slope_more:\n",
        "            vis[(y,x)]=True\n",
        "            append_correctly(x, y, pixels, img, slope_more, side)\n",
        "        else:\n",
        "            vis[(x,y)]=True\n",
        "            append_correctly(x, y, pixels, img, slope_more, side)\n",
        "    return pixels"
      ]
    },
    {
      "cell_type": "code",
      "execution_count": null,
      "metadata": {
        "id": "oUx1wCvn7W_F"
      },
      "outputs": [],
      "source": [
        "#Import data from library\n",
        "from keras.datasets import cifar10\n",
        "(trainx, trainy), (testx, testy) = cifar10.load_data()"
      ]
    },
    {
      "cell_type": "code",
      "execution_count": null,
      "metadata": {
        "id": "TJKztBkL7zMT"
      },
      "outputs": [],
      "source": [
        "#Normalize values between range 0-1\n",
        "train_x = trainx.astype('float32')/255.0\n",
        "test_x = testx.astype('float32')/255.0\n",
        "\n",
        "#Convert y into correct shape\n",
        "train_y = np.empty(trainy.shape[0],dtype=int)\n",
        "test_y = np.empty(testy.shape[0],dtype=int)\n",
        "for i in range(trainy.shape[0]):\n",
        "    train_y[i] = trainy[i][0].astype(int)\n",
        "for i in range(testy.shape[0]):\n",
        "    test_y[i] = testy[i][0].astype(int)"
      ]
    },
    {
      "cell_type": "code",
      "source": [
        "train_x.shape"
      ],
      "metadata": {
        "colab": {
          "base_uri": "https://localhost:8080/"
        },
        "id": "srbgcUb1pU75",
        "outputId": "127e39d5-d8b0-482d-e21e-4a8b6dd28f9c"
      },
      "execution_count": null,
      "outputs": [
        {
          "output_type": "execute_result",
          "data": {
            "text/plain": [
              "(50000, 32, 32, 3)"
            ]
          },
          "metadata": {},
          "execution_count": 6
        }
      ]
    },
    {
      "cell_type": "code",
      "source": [
        "datagen = ImageDataGenerator(\n",
        "        height_shift_range=0.10,\n",
        "        rotation_range=15.0,\n",
        "        shear_range=0.2,\n",
        "        zoom_range=0.2,\n",
        "        horizontal_flip=True,\n",
        "        fill_mode='nearest')\n",
        "\n",
        "def get_aug1d(x,y):\n",
        "  dataset = []\n",
        "  labels = []\n",
        "  for (image,yi) in zip(x,y):\n",
        "    aug_arr = []\n",
        "    img2 = image\n",
        "    pix = img_to_array(img2)\n",
        "    pix = pix.reshape((1,) + pix.shape)\n",
        "    extra = 2\n",
        "    start = 1\n",
        "    for batch in datagen.flow(pix, batch_size=1):\n",
        "        aug_arr.append(batch[0])\n",
        "        start += 1\n",
        "        if start>extra:\n",
        "            break\n",
        "\n",
        "    for aug_img in aug_arr:\n",
        "        sd = aug_img.shape[0]\n",
        "        rad = sd//2\n",
        "        vis2 = {}\n",
        "        pixe = get_pixels(aug_img,rad,vis2,sd)\n",
        "        tem = []\n",
        "        for i in range(0,len(pixe)):\n",
        "            if i%2==0:\n",
        "                for j in range(0,len(pixe[i])):\n",
        "                    tem.append(pixe[i][j])\n",
        "            else:\n",
        "                for j in range(len(pixe[i])-1,-1,-1):\n",
        "                    tem.append(pixe[i][j])\n",
        "        dataset.append(tem)\n",
        "        labels.append(yi)\n",
        "  return dataset,labels"
      ],
      "metadata": {
        "id": "or1OSHfh_1a8"
      },
      "execution_count": null,
      "outputs": []
    },
    {
      "cell_type": "code",
      "source": [
        "def get_1d(x,y):\n",
        "  dataset = []\n",
        "  labels = []\n",
        "  for (image,yi) in zip(x,y):\n",
        "    side = image.shape[0]\n",
        "    radius = side//2\n",
        "    vis = {}\n",
        "    pixel_array = get_pixels(image, radius, vis, side)\n",
        "    temp = []\n",
        "    for i in range(0,len(pixel_array)):\n",
        "        if i%2==0:\n",
        "            for j in range(0,len(pixel_array[i])):\n",
        "                temp.append(pixel_array[i][j])\n",
        "        else:\n",
        "            for j in range(len(pixel_array[i])-1,-1,-1):\n",
        "                temp.append(pixel_array[i][j])\n",
        "    dataset.append(temp)\n",
        "    labels.append(yi)\n",
        "  return dataset,labels"
      ],
      "metadata": {
        "id": "SHDVUBsUAejM"
      },
      "execution_count": null,
      "outputs": []
    },
    {
      "cell_type": "code",
      "source": [
        "trainx_aug, trainy_aug = get_aug1d(train_x,train_y)\n",
        "trainx_normal, trainy_normal = get_1d(train_x,train_y)\n",
        "testx_normal, testy_normal = get_1d(test_x,test_y)"
      ],
      "metadata": {
        "id": "2C-g3ocN_hX7"
      },
      "execution_count": null,
      "outputs": []
    },
    {
      "cell_type": "code",
      "source": [
        "save_csv(trainx_aug, trainy_aug, 'cifar_aug.csv')\n",
        "save_csv(testx_normal, testy_normal, 'cifar_test.csv')\n",
        "save_csv(trainx_normal, trainy_normal, 'cifar.csv')"
      ],
      "metadata": {
        "id": "Bl6lwfUIBf55"
      },
      "execution_count": null,
      "outputs": []
    },
    {
      "cell_type": "code",
      "source": [
        "#Merge augmented and normal training dataframes\n",
        "p1 = '/content/drive/MyDrive/cifar.csv'\n",
        "p2 = '/content/drive/MyDrive/cifar_aug.csv'\n",
        "d1 = pd.read_csv(p1)\n",
        "d2 = pd.read_csv(p2)\n",
        "x_train_merged = pd.concat([d1, d2])\n",
        "len(x_train_merged)"
      ],
      "metadata": {
        "id": "R9cT91TJut6R",
        "colab": {
          "base_uri": "https://localhost:8080/"
        },
        "outputId": "235dfa29-f966-4cb8-b8cd-c105ecd1262c"
      },
      "execution_count": null,
      "outputs": [
        {
          "output_type": "execute_result",
          "data": {
            "text/plain": [
              "150000"
            ]
          },
          "metadata": {},
          "execution_count": 4
        }
      ]
    },
    {
      "cell_type": "code",
      "source": [
        "file_name = 'cifar_train.csv'\n",
        "file_path = os.path.join('/content/drive/MyDrive', file_name)\n",
        "x_train_merged.to_csv(file_path, index=False)"
      ],
      "metadata": {
        "id": "yOd-VGuIvDqN"
      },
      "execution_count": null,
      "outputs": []
    },
    {
      "cell_type": "code",
      "execution_count": null,
      "metadata": {
        "id": "1NDEhByH802Y"
      },
      "outputs": [],
      "source": [
        "x_final_train, y_train_final = process_csv('cifar_train.csv')\n",
        "x_final_test, y_test_final = process_csv('cifar_test.csv')"
      ]
    },
    {
      "cell_type": "code",
      "source": [
        "#One-hot encoding\n",
        "num = 10\n",
        "y_final_train = []\n",
        "for i in range(len(y_train_final)):\n",
        "    lst = np.zeros(num).astype(int)\n",
        "    lst[y_train_final[i]] = 1\n",
        "    y_final_train.append(lst)\n",
        "y_final_test = []\n",
        "for i in range(len(y_test_final)):\n",
        "    lst = np.zeros(num).astype(int)\n",
        "    lst[y_test_final[i]] = 1\n",
        "    y_final_test.append(lst)\n",
        "y_final_train = np.array(y_final_train)\n",
        "y_final_test = np.array(y_final_test)"
      ],
      "metadata": {
        "id": "xdtqriHU1889"
      },
      "execution_count": null,
      "outputs": []
    },
    {
      "cell_type": "code",
      "source": [
        "print(x_final_train.shape)\n",
        "print(y_final_train.shape)\n",
        "print(x_final_test.shape)\n",
        "print(y_final_test.shape)"
      ],
      "metadata": {
        "colab": {
          "base_uri": "https://localhost:8080/"
        },
        "id": "FioZVxcGxxJ7",
        "outputId": "66a14c07-edc2-44f2-f802-df34c39c419d"
      },
      "execution_count": null,
      "outputs": [
        {
          "output_type": "stream",
          "name": "stdout",
          "text": [
            "(150000, 996)\n",
            "(150000, 10)\n",
            "(10000, 996)\n",
            "(10000, 10)\n"
          ]
        }
      ]
    },
    {
      "cell_type": "code",
      "execution_count": null,
      "metadata": {
        "id": "Fpzdrk-D9F33"
      },
      "outputs": [],
      "source": [
        "model = Sequential([\n",
        "    Input(shape=(x_final_train.shape[1],1)),\n",
        "\n",
        "    #1st Convolutional block\n",
        "    Conv1D(filters=32,kernel_size=3,activation='relu'),\n",
        "    Conv1D(filters=32,kernel_size=3,activation='relu'),\n",
        "    Dropout(0.1),\n",
        "    MaxPooling1D(pool_size=2),\n",
        "\n",
        "    #2nd Convolutional block\n",
        "    Conv1D(filters=64,kernel_size=3,activation='relu'),\n",
        "    Conv1D(filters=64,kernel_size=3,activation='relu'),\n",
        "    Dropout(0.2),\n",
        "    MaxPooling1D(pool_size=2),\n",
        "\n",
        "    #3rd Convolutional block\n",
        "    Conv1D(filters=128,kernel_size=3,activation='relu'),\n",
        "    Conv1D(filters=128,kernel_size=3,activation='relu'),\n",
        "    Dropout(0.3),\n",
        "    MaxPooling1D(pool_size=2),\n",
        "\n",
        "    Flatten(),\n",
        "\n",
        "    Dense(1024,activation='relu'),\n",
        "    Dropout(0.4),\n",
        "    Dense(256,activation='relu'),\n",
        "    Dropout(0.3),\n",
        "    Dense(10,activation='softmax')\n",
        "])\n",
        "model.compile(loss='categorical_crossentropy',optimizer='adam',metrics=['accuracy'])"
      ]
    },
    {
      "cell_type": "code",
      "execution_count": null,
      "metadata": {
        "colab": {
          "base_uri": "https://localhost:8080/"
        },
        "id": "RA6eWavV9II-",
        "outputId": "20d509d2-4737-4bdd-cf9f-c5d71a4da7d9"
      },
      "outputs": [
        {
          "output_type": "stream",
          "name": "stdout",
          "text": [
            "Model: \"sequential_2\"\n",
            "_________________________________________________________________\n",
            " Layer (type)                Output Shape              Param #   \n",
            "=================================================================\n",
            " conv1d_12 (Conv1D)          (None, 994, 32)           128       \n",
            "                                                                 \n",
            " conv1d_13 (Conv1D)          (None, 992, 32)           3104      \n",
            "                                                                 \n",
            " dropout_10 (Dropout)        (None, 992, 32)           0         \n",
            "                                                                 \n",
            " max_pooling1d_6 (MaxPoolin  (None, 496, 32)           0         \n",
            " g1D)                                                            \n",
            "                                                                 \n",
            " conv1d_14 (Conv1D)          (None, 494, 64)           6208      \n",
            "                                                                 \n",
            " conv1d_15 (Conv1D)          (None, 492, 64)           12352     \n",
            "                                                                 \n",
            " dropout_11 (Dropout)        (None, 492, 64)           0         \n",
            "                                                                 \n",
            " max_pooling1d_7 (MaxPoolin  (None, 246, 64)           0         \n",
            " g1D)                                                            \n",
            "                                                                 \n",
            " conv1d_16 (Conv1D)          (None, 244, 128)          24704     \n",
            "                                                                 \n",
            " conv1d_17 (Conv1D)          (None, 242, 128)          49280     \n",
            "                                                                 \n",
            " dropout_12 (Dropout)        (None, 242, 128)          0         \n",
            "                                                                 \n",
            " max_pooling1d_8 (MaxPoolin  (None, 121, 128)          0         \n",
            " g1D)                                                            \n",
            "                                                                 \n",
            " flatten_2 (Flatten)         (None, 15488)             0         \n",
            "                                                                 \n",
            " dense_6 (Dense)             (None, 1024)              15860736  \n",
            "                                                                 \n",
            " dropout_13 (Dropout)        (None, 1024)              0         \n",
            "                                                                 \n",
            " dense_7 (Dense)             (None, 256)               262400    \n",
            "                                                                 \n",
            " dropout_14 (Dropout)        (None, 256)               0         \n",
            "                                                                 \n",
            " dense_8 (Dense)             (None, 10)                2570      \n",
            "                                                                 \n",
            "=================================================================\n",
            "Total params: 16221482 (61.88 MB)\n",
            "Trainable params: 16221482 (61.88 MB)\n",
            "Non-trainable params: 0 (0.00 Byte)\n",
            "_________________________________________________________________\n"
          ]
        }
      ],
      "source": [
        "model.summary()"
      ]
    },
    {
      "cell_type": "code",
      "execution_count": null,
      "metadata": {
        "colab": {
          "base_uri": "https://localhost:8080/"
        },
        "id": "c5rwHtal9Jdi",
        "outputId": "9ec820fe-d849-4f54-e48c-40691ee9afa0"
      },
      "outputs": [
        {
          "output_type": "stream",
          "name": "stdout",
          "text": [
            "Epoch 1/15\n",
            "1172/1172 [==============================] - 42s 32ms/step - loss: 1.5007 - accuracy: 0.4582 - val_loss: 1.1818 - val_accuracy: 0.5854\n",
            "Epoch 2/15\n",
            "1172/1172 [==============================] - 36s 31ms/step - loss: 1.1623 - accuracy: 0.5870 - val_loss: 1.0592 - val_accuracy: 0.6228\n",
            "Epoch 3/15\n",
            "1172/1172 [==============================] - 37s 32ms/step - loss: 1.0167 - accuracy: 0.6393 - val_loss: 0.9977 - val_accuracy: 0.6480\n",
            "Epoch 4/15\n",
            "1172/1172 [==============================] - 37s 31ms/step - loss: 0.9023 - accuracy: 0.6810 - val_loss: 0.9506 - val_accuracy: 0.6669\n",
            "Epoch 5/15\n",
            "1172/1172 [==============================] - 36s 31ms/step - loss: 0.8092 - accuracy: 0.7122 - val_loss: 0.9239 - val_accuracy: 0.6743\n",
            "Epoch 6/15\n",
            "1172/1172 [==============================] - 36s 31ms/step - loss: 0.7249 - accuracy: 0.7427 - val_loss: 0.9357 - val_accuracy: 0.6736\n",
            "Epoch 7/15\n",
            "1172/1172 [==============================] - 37s 31ms/step - loss: 0.6603 - accuracy: 0.7656 - val_loss: 0.9167 - val_accuracy: 0.6798\n",
            "Epoch 8/15\n",
            "1172/1172 [==============================] - 37s 31ms/step - loss: 0.6039 - accuracy: 0.7849 - val_loss: 0.9451 - val_accuracy: 0.6809\n",
            "Epoch 9/15\n",
            "1172/1172 [==============================] - 36s 31ms/step - loss: 0.5470 - accuracy: 0.8049 - val_loss: 0.9489 - val_accuracy: 0.6857\n",
            "Epoch 10/15\n",
            "1172/1172 [==============================] - 37s 32ms/step - loss: 0.5106 - accuracy: 0.8178 - val_loss: 0.9843 - val_accuracy: 0.6761\n",
            "Epoch 11/15\n",
            "1172/1172 [==============================] - 37s 31ms/step - loss: 0.4756 - accuracy: 0.8302 - val_loss: 0.9808 - val_accuracy: 0.6810\n",
            "Epoch 12/15\n",
            "1172/1172 [==============================] - 37s 31ms/step - loss: 0.4449 - accuracy: 0.8434 - val_loss: 1.0186 - val_accuracy: 0.6748\n",
            "Epoch 13/15\n",
            "1172/1172 [==============================] - 37s 31ms/step - loss: 0.4185 - accuracy: 0.8530 - val_loss: 1.0109 - val_accuracy: 0.6833\n",
            "Epoch 14/15\n",
            "1172/1172 [==============================] - 36s 31ms/step - loss: 0.3999 - accuracy: 0.8593 - val_loss: 1.0318 - val_accuracy: 0.6803\n",
            "Epoch 15/15\n",
            "1172/1172 [==============================] - 36s 31ms/step - loss: 0.3732 - accuracy: 0.8684 - val_loss: 1.0320 - val_accuracy: 0.6809\n"
          ]
        }
      ],
      "source": [
        "history = model.fit(x_final_train, y_final_train, validation_data = (x_final_test,y_final_test), epochs = 15, batch_size = 128)"
      ]
    },
    {
      "cell_type": "code",
      "execution_count": null,
      "metadata": {
        "colab": {
          "base_uri": "https://localhost:8080/",
          "height": 927
        },
        "id": "s1drpyOg9LI6",
        "outputId": "ef6ab7f1-2696-4a42-da45-d1ed4240118a"
      },
      "outputs": [
        {
          "output_type": "display_data",
          "data": {
            "text/plain": [
              "<Figure size 640x480 with 1 Axes>"
            ],
            "image/png": "[encoded data removed]"
          },
          "metadata": {}
        },
        {
          "output_type": "display_data",
          "data": {
            "text/plain": [
              "<Figure size 640x480 with 1 Axes>"
            ],
            "image/png": "[encoded data removed]"
          },
          "metadata": {}
        }
      ],
      "source": [
        "# Plot training and validation loss\n",
        "plt.figure()\n",
        "plt.plot(history.history['loss'], label='Training Loss')\n",
        "plt.plot(history.history['val_loss'], label='Validation Loss')\n",
        "plt.xlabel('Epoch')\n",
        "plt.ylabel('Loss')\n",
        "plt.title('Training and Validation Loss Curves')\n",
        "plt.legend()\n",
        "\n",
        "# Plot training and validation accuracy\n",
        "plt.figure()\n",
        "plt.plot(history.history['accuracy'], label='Training Accuracy')\n",
        "plt.plot(history.history['val_accuracy'], label='Validation Accuracy')\n",
        "plt.xlabel('Epoch')\n",
        "plt.ylabel('Accuracy')\n",
        "plt.title('Training and Validation Accuracy Curves')\n",
        "plt.legend()\n",
        "\n",
        "plt.show()"
      ]
    },
    {
      "cell_type": "code",
      "execution_count": null,
      "metadata": {
        "id": "4kch1wpMsz78"
      },
      "outputs": [],
      "source": []
    }
  ],
  "metadata": {
    "accelerator": "GPU",
    "colab": {
      "gpuType": "T4",
      "provenance": []
    },
    "kernelspec": {
      "display_name": "Python 3",
      "name": "python3"
    },
    "language_info": {
      "name": "python"
    }
  },
  "nbformat": 4,
  "nbformat_minor": 0
}